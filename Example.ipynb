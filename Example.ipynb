{
  "nbformat": 4,
  "nbformat_minor": 0,
  "metadata": {
    "colab": {
      "provenance": [],
      "authorship_tag": "ABX9TyN5REsZCXXChY7G5470mOTg",
      "include_colab_link": true
    },
    "kernelspec": {
      "name": "python3",
      "display_name": "Python 3"
    },
    "language_info": {
      "name": "python"
    }
  },
  "cells": [
    {
      "cell_type": "markdown",
      "metadata": {
        "id": "view-in-github",
        "colab_type": "text"
      },
      "source": [
        "<a href=\"https://colab.research.google.com/github/sivakotireddy45/cachelevelconfiguration/blob/main/Example.ipynb\" target=\"_parent\"><img src=\"https://colab.research.google.com/assets/colab-badge.svg\" alt=\"Open In Colab\"/></a>"
      ]
    },
    {
      "cell_type": "code",
      "source": [
        "# Example Usage with a Different Scenario\n",
        "cache_system = MultilevelCacheSystem()\n",
        "\n",
        "# Adding cache levels\n",
        "cache_system.addCacheLevel(2, 'LRU')  # L1 Cache: size 2, LRU policy\n",
        "cache_system.addCacheLevel(3, 'LFU')  # L2 Cache: size 3, LFU policy\n",
        "\n",
        "# Inserting data\n",
        "cache_system.put(\"X\", \"10\")\n",
        "cache_system.put(\"Y\", \"20\")\n",
        "\n",
        "# Retrieving data from L1\n",
        "print(cache_system.get(\"X\"))  # Returns \"10\" from L1\n",
        "\n",
        "# Insert more data that triggers eviction in L1 (since L1 can only hold 2 entries)\n",
        "cache_system.put(\"Z\", \"30\")  # L1 is full, evicts least recently used item (Y)\n",
        "\n",
        "# Insert data into L1 which causes more eviction\n",
        "cache_system.put(\"W\", \"40\")  # L1 evicts least recently used (X)\n",
        "\n",
        "# Retrieve from L2 and promote to L1\n",
        "print(cache_system.get(\"Y\"))  # Fetches \"Y\" from L2 and promotes it to L1\n",
        "\n",
        "# Insert more data to trigger eviction in L2 (LFU-based eviction)\n",
        "cache_system.put(\"A\", \"50\")\n",
        "cache_system.put(\"B\", \"60\")\n",
        "\n",
        "# Display the current state of caches\n",
        "cache_system.displayCache()\n",
        "\n",
        "# Remove L2 cache and observe the effect\n",
        "cache_system.removeCacheLevel(1)\n",
        "cache_system.displayCache()"
      ],
      "metadata": {
        "colab": {
          "base_uri": "https://localhost:8080/"
        },
        "id": "ZMKLo5en_Wq4",
        "outputId": "4623731b-6f6c-4c9e-c4b1-9f2d665054b1"
      },
      "execution_count": 2,
      "outputs": [
        {
          "output_type": "stream",
          "name": "stdout",
          "text": [
            "10\n",
            "None\n",
            "L1 Cache: [('A', '50'), ('B', '60')]\n",
            "L2 Cache: []\n",
            "L1 Cache: [('A', '50'), ('B', '60')]\n"
          ]
        }
      ]
    }
  ]
}